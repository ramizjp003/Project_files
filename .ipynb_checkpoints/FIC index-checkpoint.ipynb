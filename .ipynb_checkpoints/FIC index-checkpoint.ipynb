{
 "cells": [
  {
   "cell_type": "code",
   "execution_count": 4,
   "id": "4e2f0ea6-0600-4b7b-9624-aa593b51df64",
   "metadata": {},
   "outputs": [
    {
     "name": "stdout",
     "output_type": "stream",
     "text": [
      "Welcome!!! \n",
      "Thank you to use our program to calculate the synergistic effect of two drugs:\n",
      "\n",
      "Please enter information:\n"
     ]
    },
    {
     "name": "stdin",
     "output_type": "stream",
     "text": [
      "MIC of drug 1 alone: 4\n",
      "MIC of drug 2 alone: 200\n",
      "MIC of drug 1 in combination therapy: 1.25\n",
      "MIC of drgu 2 in combination therapy: 200\n"
     ]
    },
    {
     "name": "stdout",
     "output_type": "stream",
     "text": [
      "\n",
      "Results:\n",
      "\t1.FIC index 1.31\n",
      "\n",
      "\t2.Both drugs combindly have Additive effect. So, it is sometimes better to use a single drug to avoid toxicity\n"
     ]
    }
   ],
   "source": [
    "print ('Welcome!!! \\nThank you to use our program to calculate the synergistic effect of two drugs:')\n",
    "print ('\\nPlease enter information:')\n",
    "\n",
    "# MIC of first antibiotics\n",
    "X= float(input(\"MIC of drug 1 alone:\"))\n",
    "# MIC of second antibiotic or compound\n",
    "Y= float(input(\"MIC of drug 2 alone:\"))\n",
    "# MIC of antibiotic and compound combined\n",
    "Z = float(input(\"MIC of drug 1 in combination therapy:\"))\n",
    "Q = float(input(\"MIC of drgu 2 in combination therapy:\"))\n",
    "\n",
    "\n",
    "#Calculate the fractional inhibitory concentration (FIC) index\n",
    "# FIC of first antibiotics\n",
    "FIC1 = Z / X\n",
    "# FIC of second antibiotic or compound\n",
    "FIC2 = Q / Y\n",
    "# FIC of antibiotic and compound combined\n",
    "FIC = FIC1 + FIC2\n",
    "print ('\\nResults:')\n",
    "\n",
    "print (f'\\t1.FIC index {FIC:.2f}')\n",
    "if FIC <= 0.5:\n",
    "    print ('\\n\\t2.Both drugs combindly have Synergistic effect. So, it is better to use them in combination')\n",
    "elif FIC > 0.5 and FIC <= 1.5:\n",
    "    print ('\\n\\t2.Both drugs combindly have Additive effect. So, it is sometimes better to use a single drug to avoid toxicity')\n",
    "else:\n",
    "    print ('\\n\\t2.Both drugs combindly have an Antagonistic effect. So, there is not point of using them in combination therapy')\n",
    "\n",
    "# Journal reference for FIC index and scale: https://www.ncbi.nlm.nih.gov/pmc/articles/PMC2812160/\n"
   ]
  },
  {
   "cell_type": "code",
   "execution_count": null,
   "id": "89fa286b-e035-443b-b9ad-0122cd5a74f9",
   "metadata": {},
   "outputs": [],
   "source": []
  }
 ],
 "metadata": {
  "kernelspec": {
   "display_name": "Python 3 (ipykernel)",
   "language": "python",
   "name": "python3"
  },
  "language_info": {
   "codemirror_mode": {
    "name": "ipython",
    "version": 3
   },
   "file_extension": ".py",
   "mimetype": "text/x-python",
   "name": "python",
   "nbconvert_exporter": "python",
   "pygments_lexer": "ipython3",
   "version": "3.9.12"
  }
 },
 "nbformat": 4,
 "nbformat_minor": 5
}
